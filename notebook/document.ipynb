{
 "cells": [
  {
   "cell_type": "markdown",
   "id": "c4b1cbca",
   "metadata": {},
   "source": [
    "## DATA INGESTION"
   ]
  },
  {
   "cell_type": "code",
   "execution_count": 1,
   "id": "a4f4dce2",
   "metadata": {},
   "outputs": [],
   "source": [
    "## Document structure\n",
    "\n",
    "from langchain_core.documents import Document"
   ]
  },
  {
   "cell_type": "code",
   "execution_count": 3,
   "id": "860d8e53",
   "metadata": {},
   "outputs": [],
   "source": [
    "doc = Document(\n",
    "    page_content=\"This is the content of the document\",\n",
    "    metadata = {\n",
    "        \"source\": \"example.txt\",\n",
    "        \"author\": \"John Doe\",\n",
    "        \"pages\":1,\n",
    "        \"date_created\": \"2024-06-15\"\n",
    "    }\n",
    ")\n",
    "\n",
    "## metadata can be used to apply filter"
   ]
  },
  {
   "cell_type": "code",
   "execution_count": 4,
   "id": "0e637f13",
   "metadata": {},
   "outputs": [
    {
     "data": {
      "text/plain": [
       "Document(metadata={'source': 'example.txt', 'author': 'John Doe', 'pages': 1, 'date_created': '2024-06-15'}, page_content='This is the content of the document')"
      ]
     },
     "execution_count": 4,
     "metadata": {},
     "output_type": "execute_result"
    }
   ],
   "source": [
    "doc"
   ]
  },
  {
   "cell_type": "code",
   "execution_count": 7,
   "id": "97f670b7",
   "metadata": {},
   "outputs": [],
   "source": [
    "## create a simple txt file\n",
    "\n",
    "import os\n",
    "os.makedirs(\"../data/text_files\", exist_ok=True)"
   ]
  },
  {
   "cell_type": "code",
   "execution_count": 14,
   "id": "a7a6602e",
   "metadata": {},
   "outputs": [
    {
     "name": "stdout",
     "output_type": "stream",
     "text": [
      "e:\\RAG-project\\notebook\n"
     ]
    }
   ],
   "source": [
    "import os\n",
    "print(os.getcwd())\n"
   ]
  },
  {
   "cell_type": "code",
   "execution_count": 17,
   "id": "163c0b9d",
   "metadata": {},
   "outputs": [
    {
     "name": "stdout",
     "output_type": "stream",
     "text": [
      "fiel creatd\n"
     ]
    }
   ],
   "source": [
    "sample_text = {\n",
    "    \"../data/text_files/intro.txt\":\"\"\"\n",
    "    Artificial Intelligence (AI) is rapidly transforming every aspect of modern life. \n",
    "From personalized recommendations on streaming platforms to autonomous vehicles and \n",
    "AI-powered healthcare diagnostics, machine learning models are driving innovation \n",
    "across industries. In particular, generative AI models such as GPT and diffusion \n",
    "networks have opened new possibilities for creativity, automation, and research. \n",
    "However, as AI systems become more capable, concerns around ethics, transparency, \n",
    "and data privacy have grown. Organizations are now focusing not only on performance \n",
    "but also on responsible AI practices, ensuring fairness, explainability, and safety \n",
    "in deployment. The future of AI will likely depend on striking the right balance \n",
    "between innovation and governance.\n",
    "\"\"\",\n",
    "\n",
    "\"../data/text_files/ml.txt\":\"\"\"Machine Learning (ML) is a subset of Artificial Intelligence that enables computers to learn patterns and make decisions without being explicitly programmed. \n",
    "Instead of following fixed rules, ML systems analyze historical data to find trends and relationships, allowing them to make predictions or classifications on new data. \n",
    "Common types of machine learning include supervised learning, unsupervised learning, and reinforcement learning. \n",
    "Supervised learning relies on labeled datasets to train predictive models, while unsupervised learning\n",
    "\"\"\"\n",
    "}\n",
    "\n",
    "for filepath,content in sample_text.items():\n",
    "    os.makedirs(os.path.dirname(filepath), exist_ok=True)\n",
    "    with open(filepath, 'w', encoding=\"utf-8\") as f:\n",
    "        f.write(content)\n",
    "\n",
    "print(\"fiel creatd\")"
   ]
  },
  {
   "cell_type": "code",
   "execution_count": 21,
   "id": "c1fdc478",
   "metadata": {},
   "outputs": [
    {
     "name": "stdout",
     "output_type": "stream",
     "text": [
      "[Document(metadata={'source': '../data/text_files/intro.txt'}, page_content='\\n    Artificial Intelligence (AI) is rapidly transforming every aspect of modern life. \\nFrom personalized recommendations on streaming platforms to autonomous vehicles and \\nAI-powered healthcare diagnostics, machine learning models are driving innovation \\nacross industries. In particular, generative AI models such as GPT and diffusion \\nnetworks have opened new possibilities for creativity, automation, and research. \\nHowever, as AI systems become more capable, concerns around ethics, transparency, \\nand data privacy have grown. Organizations are now focusing not only on performance \\nbut also on responsible AI practices, ensuring fairness, explainability, and safety \\nin deployment. The future of AI will likely depend on striking the right balance \\nbetween innovation and governance.\\n')]\n"
     ]
    }
   ],
   "source": [
    "### Text Loader\n",
    "\n",
    "from langchain_community.document_loaders import TextLoader\n",
    "\n",
    "loader = TextLoader(\"../data/text_files/intro.txt\", encoding=\"utf-8\")\n",
    "\n",
    "document = loader.load()\n",
    "print(document)"
   ]
  },
  {
   "cell_type": "code",
   "execution_count": 24,
   "id": "90763e84",
   "metadata": {},
   "outputs": [
    {
     "name": "stderr",
     "output_type": "stream",
     "text": [
      "100%|██████████| 2/2 [00:00<00:00, 221.27it/s]"
     ]
    },
    {
     "name": "stdout",
     "output_type": "stream",
     "text": [
      "Number of documents loaded: 2\n"
     ]
    },
    {
     "name": "stderr",
     "output_type": "stream",
     "text": [
      "\n"
     ]
    },
    {
     "data": {
      "text/plain": [
       "[Document(metadata={'source': '..\\\\data\\\\text_files\\\\intro.txt'}, page_content='\\n    Artificial Intelligence (AI) is rapidly transforming every aspect of modern life. \\nFrom personalized recommendations on streaming platforms to autonomous vehicles and \\nAI-powered healthcare diagnostics, machine learning models are driving innovation \\nacross industries. In particular, generative AI models such as GPT and diffusion \\nnetworks have opened new possibilities for creativity, automation, and research. \\nHowever, as AI systems become more capable, concerns around ethics, transparency, \\nand data privacy have grown. Organizations are now focusing not only on performance \\nbut also on responsible AI practices, ensuring fairness, explainability, and safety \\nin deployment. The future of AI will likely depend on striking the right balance \\nbetween innovation and governance.\\n'),\n",
       " Document(metadata={'source': '..\\\\data\\\\text_files\\\\ml.txt'}, page_content='Machine Learning (ML) is a subset of Artificial Intelligence that enables computers to learn patterns and make decisions without being explicitly programmed. \\nInstead of following fixed rules, ML systems analyze historical data to find trends and relationships, allowing them to make predictions or classifications on new data. \\nCommon types of machine learning include supervised learning, unsupervised learning, and reinforcement learning. \\nSupervised learning relies on labeled datasets to train predictive models, while unsupervised learning\\n')]"
      ]
     },
     "execution_count": 24,
     "metadata": {},
     "output_type": "execute_result"
    }
   ],
   "source": [
    "### Directory Loader\n",
    "\n",
    "from langchain_community.document_loaders import DirectoryLoader\n",
    "\n",
    "loader = DirectoryLoader(\"../data/text_files\", \n",
    "glob=\"**/*.txt\", loader_cls = TextLoader,\n",
    " loader_kwargs={'encoding':'utf-8'}, \n",
    " show_progress=True)\n",
    "\n",
    "dir_loader = loader.load()\n",
    "print(f\"Number of documents loaded: {len(dir_loader)}\")\n",
    "dir_loader"
   ]
  },
  {
   "cell_type": "code",
   "execution_count": 26,
   "id": "d16d5f1f",
   "metadata": {},
   "outputs": [
    {
     "name": "stderr",
     "output_type": "stream",
     "text": [
      "100%|██████████| 1/1 [00:00<00:00,  4.09it/s]"
     ]
    },
    {
     "name": "stdout",
     "output_type": "stream",
     "text": [
      "Number of documents loaded: 1\n"
     ]
    },
    {
     "name": "stderr",
     "output_type": "stream",
     "text": [
      "\n"
     ]
    },
    {
     "data": {
      "text/plain": [
       "[Document(metadata={'producer': '', 'creator': '', 'creationdate': '2025-10-18T18:28:51+00:00', 'source': '..\\\\data\\\\pdf_files\\\\sample_machine_learning (1).pdf', 'file_path': '..\\\\data\\\\pdf_files\\\\sample_machine_learning (1).pdf', 'total_pages': 1, 'format': 'PDF 1.3', 'title': '', 'author': '', 'subject': '', 'keywords': '', 'moddate': '', 'trapped': '', 'modDate': '', 'creationDate': 'D:20251018182851Z', 'page': 0}, page_content='Introduction to Machine Learning\\nMachine Learning (ML) is a subset of Artificial Intelligence that enables computers to learn patterns\\nand make decisions without being explicitly programmed. \\nInstead of following fixed rules, ML systems analyze historical data to find trends and relationships,\\nallowing them to make predictions or classifications on new data.\\nCommon types of machine learning include supervised learning, unsupervised learning, and\\nreinforcement learning. \\nSupervised learning relies on labeled datasets to train predictive models, while unsupervised\\nlearning discovers hidden structures within unlabeled data. \\nReinforcement learning involves agents learning optimal behavior through trial and error interactions\\nwith their environment.\\nMachine learning has applications across industries, from fraud detection and recommendation\\nsystems to speech recognition and self-driving cars. \\nWith the growing availability of data and computing power, ML is becoming an essential tool for\\nsolving complex problems in both academia and industry.')]"
      ]
     },
     "execution_count": 26,
     "metadata": {},
     "output_type": "execute_result"
    }
   ],
   "source": [
    "### Directory Loader\n",
    "\n",
    "from langchain_community.document_loaders import DirectoryLoader, PyPDFLoader, PyMuPDFLoader\n",
    "\n",
    "loader = DirectoryLoader(\"../data/pdf_files\", \n",
    "glob=\"**/*.pdf\", loader_cls = PyMuPDFLoader, \n",
    " show_progress=True)\n",
    "\n",
    "pdf_doc = loader.load()\n",
    "print(f\"Number of documents loaded: {len(pdf_doc)}\")\n",
    "pdf_doc"
   ]
  },
  {
   "cell_type": "code",
   "execution_count": 27,
   "id": "35c0ab52",
   "metadata": {},
   "outputs": [
    {
     "data": {
      "text/plain": [
       "langchain_core.documents.base.Document"
      ]
     },
     "execution_count": 27,
     "metadata": {},
     "output_type": "execute_result"
    }
   ],
   "source": [
    "type(pdf_doc[0])"
   ]
  },
  {
   "cell_type": "code",
   "execution_count": null,
   "id": "bd8f29c1",
   "metadata": {},
   "outputs": [],
   "source": []
  }
 ],
 "metadata": {
  "kernelspec": {
   "display_name": "RAG-project",
   "language": "python",
   "name": "python3"
  },
  "language_info": {
   "codemirror_mode": {
    "name": "ipython",
    "version": 3
   },
   "file_extension": ".py",
   "mimetype": "text/x-python",
   "name": "python",
   "nbconvert_exporter": "python",
   "pygments_lexer": "ipython3",
   "version": "3.12.3"
  }
 },
 "nbformat": 4,
 "nbformat_minor": 5
}
